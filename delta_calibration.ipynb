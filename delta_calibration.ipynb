{
 "cells": [
  {
   "cell_type": "markdown",
   "metadata": {},
   "source": [
    "# Delta printer geometry calibration using bed auto-leveling"
   ]
  },
  {
   "cell_type": "markdown",
   "metadata": {},
   "source": [
    "Copyright (c) 2015 Matti Airas\n",
    "\n",
    "Permission is hereby granted, free of charge, to any person obtaining a copy of this software and associated documentation files (the \"Software\"), to deal in the Software without restriction, including without limitation the rights to use, copy, modify, merge, publish, distribute, sublicense, and/or sell copies of the Software, and to permit persons to whom the Software is furnished to do so, subject to the following conditions:\n",
    "\n",
    "The above copyright notice and this permission notice shall be included in all copies or substantial portions of the Software.\n",
    "\n",
    "THE SOFTWARE IS PROVIDED \"AS IS\", WITHOUT WARRANTY OF ANY KIND, EXPRESS OR IMPLIED, INCLUDING BUT NOT LIMITED TO THE WARRANTIES OF MERCHANTABILITY, FITNESS FOR A PARTICULAR PURPOSE AND NONINFRINGEMENT. IN NO EVENT SHALL THE AUTHORS OR COPYRIGHT HOLDERS BE LIABLE FOR ANY CLAIM, DAMAGES OR OTHER LIABILITY, WHETHER IN AN ACTION OF CONTRACT, TORT OR OTHERWISE, ARISING FROM, OUT OF OR IN CONNECTION WITH THE SOFTWARE OR THE USE OR OTHER DEALINGS IN THE SOFTWARE."
   ]
  },
  {
   "cell_type": "markdown",
   "metadata": {},
   "source": [
    "## Initial setup"
   ]
  },
  {
   "cell_type": "code",
   "execution_count": 1,
   "metadata": {
    "collapsed": false
   },
   "outputs": [],
   "source": [
    "from mpl_toolkits.mplot3d import Axes3D\n",
    "from matplotlib import cm\n",
    "from matplotlib.ticker import LinearLocator, FormatStrFormatter\n",
    "import matplotlib.pyplot as plt\n",
    "\n",
    "import numpy as np\n",
    "from scipy.optimize import leastsq, minimize"
   ]
  },
  {
   "cell_type": "code",
   "execution_count": 2,
   "metadata": {
    "collapsed": false
   },
   "outputs": [],
   "source": [
    "%matplotlib inline"
   ]
  },
  {
   "cell_type": "markdown",
   "metadata": {},
   "source": [
    "Import calibration data. The calibration data should be acquired by first running commands \"G28\" and then \"G29 V3\" on the printer. To increase the amount of points, you can set AUTO_BED_LEVELING_GRID_POINTS to some larger value. I used 25."
   ]
  },
  {
   "cell_type": "code",
   "execution_count": 3,
   "metadata": {
    "collapsed": true
   },
   "outputs": [],
   "source": [
    "in_data = \"\"\"\n",
    "< 21:10:41: Bed X: 0.000 Y: -70.000 Z: 1.370\n",
    "< 21:10:42: Bed X: 25.000 Y: -65.000 Z: 1.280\n",
    "< 21:10:42: Bed X: 20.000 Y: -65.000 Z: 1.390\n",
    "< 21:10:43: Bed X: 15.000 Y: -65.000 Z: 1.430\n",
    "< 21:10:43: Bed X: 10.000 Y: -65.000 Z: 1.500\n",
    "< 21:10:44: Bed X: 5.000 Y: -65.000 Z: 1.530\n",
    "< 21:10:44: Bed X: 0.000 Y: -65.000 Z: 1.590\n",
    "< 21:10:45: Bed X: -5.000 Y: -65.000 Z: 1.610\n",
    "< 21:10:45: Bed X: -10.000 Y: -65.000 Z: 1.640\n",
    "< 21:10:46: Bed X: -15.000 Y: -65.000 Z: 1.610\n",
    "< 21:10:46: Bed X: -20.000 Y: -65.000 Z: 1.580\n",
    "< 21:10:47: Bed X: -25.000 Y: -65.000 Z: 1.520\n",
    "< 21:10:48: Bed X: -35.000 Y: -60.000 Z: 1.420\n",
    "< 21:10:48: Bed X: -30.000 Y: -60.000 Z: 1.510\n",
    "< 21:10:49: Bed X: -25.000 Y: -60.000 Z: 1.590\n",
    "< 21:10:49: Bed X: -20.000 Y: -60.000 Z: 1.620\n",
    "< 21:10:50: Bed X: -15.000 Y: -60.000 Z: 1.660\n",
    "< 21:10:50: Bed X: -10.000 Y: -60.000 Z: 1.680\n",
    "< 21:10:51: Bed X: -5.000 Y: -60.000 Z: 1.660\n",
    "< 21:10:51: Bed X: 0.000 Y: -60.000 Z: 1.660\n",
    "< 21:10:52: Bed X: 5.000 Y: -60.000 Z: 1.660\n",
    "< 21:10:52: Bed X: 10.000 Y: -60.000 Z: 1.620\n",
    "< 21:10:53: Bed X: 15.000 Y: -60.000 Z: 1.570\n",
    "< 21:10:53: Bed X: 20.000 Y: -60.000 Z: 1.510\n",
    "< 21:10:54: Bed X: 25.000 Y: -60.000 Z: 1.430\n",
    "< 21:10:54: Bed X: 30.000 Y: -60.000 Z: 1.350\n",
    "< 21:10:55: Bed X: 35.000 Y: -60.000 Z: 1.260\n",
    "< 21:10:56: Bed X: 40.000 Y: -55.000 Z: 1.350\n",
    "< 21:10:56: Bed X: 35.000 Y: -55.000 Z: 1.360\n",
    "< 21:10:57: Bed X: 30.000 Y: -55.000 Z: 1.450\n",
    "< 21:10:57: Bed X: 25.000 Y: -55.000 Z: 1.560\n",
    "< 21:10:58: Bed X: 20.000 Y: -55.000 Z: 1.620\n",
    "< 21:10:58: Bed X: 15.000 Y: -55.000 Z: 1.670\n",
    "< 21:10:59: Bed X: 10.000 Y: -55.000 Z: 1.710\n",
    "< 21:10:59: Bed X: 5.000 Y: -55.000 Z: 1.730\n",
    "< 21:11:00: Bed X: 0.000 Y: -55.000 Z: 1.740\n",
    "< 21:11:00: Bed X: -5.000 Y: -55.000 Z: 1.740\n",
    "< 21:11:01: Bed X: -10.000 Y: -55.000 Z: 1.740\n",
    "< 21:11:01: Bed X: -15.000 Y: -55.000 Z: 1.730\n",
    "< 21:11:02: Bed X: -20.000 Y: -55.000 Z: 1.700\n",
    "< 21:11:02: Bed X: -25.000 Y: -55.000 Z: 1.650\n",
    "< 21:11:03: Bed X: -30.000 Y: -55.000 Z: 1.580\n",
    "< 21:11:04: Bed X: -35.000 Y: -55.000 Z: 1.510\n",
    "< 21:11:04: Bed X: -40.000 Y: -55.000 Z: 1.430\n",
    "< 21:11:05: Bed X: -45.000 Y: -50.000 Z: 1.430\n",
    "< 21:11:05: Bed X: -40.000 Y: -50.000 Z: 1.480\n",
    "< 21:11:06: Bed X: -35.000 Y: -50.000 Z: 1.540\n",
    "< 21:11:06: Bed X: -30.000 Y: -50.000 Z: 1.620\n",
    "< 21:11:07: Bed X: -25.000 Y: -50.000 Z: 1.690\n",
    "< 21:11:07: Bed X: -20.000 Y: -50.000 Z: 1.740\n",
    "< 21:11:08: Bed X: -15.000 Y: -50.000 Z: 1.780\n",
    "< 21:11:08: Bed X: -10.000 Y: -50.000 Z: 1.790\n",
    "< 21:11:09: Bed X: -5.000 Y: -50.000 Z: 1.830\n",
    "< 21:11:09: Bed X: 0.000 Y: -50.000 Z: 1.840\n",
    "< 21:11:10: Bed X: 5.000 Y: -50.000 Z: 1.840\n",
    "< 21:11:10: Bed X: 10.000 Y: -50.000 Z: 1.820\n",
    "< 21:11:11: Bed X: 15.000 Y: -50.000 Z: 1.780\n",
    "< 21:11:12: Bed X: 20.000 Y: -50.000 Z: 1.720\n",
    "< 21:11:12: Bed X: 25.000 Y: -50.000 Z: 1.680\n",
    "< 21:11:13: Bed X: 30.000 Y: -50.000 Z: 1.590\n",
    "< 21:11:13: Bed X: 35.000 Y: -50.000 Z: 1.500\n",
    "< 21:11:14: Bed X: 40.000 Y: -50.000 Z: 1.440\n",
    "< 21:11:14: Bed X: 45.000 Y: -50.000 Z: 1.370\n",
    "< 21:11:15: Bed X: 50.000 Y: -45.000 Z: 1.490\n",
    "< 21:11:15: Bed X: 45.000 Y: -45.000 Z: 1.500\n",
    "< 21:11:16: Bed X: 40.000 Y: -45.000 Z: 1.550\n",
    "< 21:11:16: Bed X: 35.000 Y: -45.000 Z: 1.630\n",
    "< 21:11:17: Bed X: 30.000 Y: -45.000 Z: 1.700\n",
    "< 21:11:18: Bed X: 25.000 Y: -45.000 Z: 1.790\n",
    "< 21:11:18: Bed X: 20.000 Y: -45.000 Z: 1.840\n",
    "< 21:11:19: Bed X: 15.000 Y: -45.000 Z: 1.900\n",
    "< 21:11:19: Bed X: 10.000 Y: -45.000 Z: 1.910\n",
    "< 21:11:20: Bed X: 5.000 Y: -45.000 Z: 1.930\n",
    "< 21:11:20: Bed X: 0.000 Y: -45.000 Z: 1.910\n",
    "< 21:11:21: Bed X: -5.000 Y: -45.000 Z: 1.920\n",
    "< 21:11:21: Bed X: -10.000 Y: -45.000 Z: 1.880\n",
    "< 21:11:22: Bed X: -15.000 Y: -45.000 Z: 1.870\n",
    "< 21:11:22: Bed X: -20.000 Y: -45.000 Z: 1.810\n",
    "< 21:11:23: Bed X: -25.000 Y: -45.000 Z: 1.750\n",
    "< 21:11:23: Bed X: -30.000 Y: -45.000 Z: 1.690\n",
    "< 21:11:24: Bed X: -35.000 Y: -45.000 Z: 1.620\n",
    "< 21:11:24: Bed X: -40.000 Y: -45.000 Z: 1.520\n",
    "< 21:11:25: Bed X: -45.000 Y: -45.000 Z: 1.460\n",
    "< 21:11:26: Bed X: -50.000 Y: -45.000 Z: 1.410\n",
    "< 21:11:26: Bed X: -55.000 Y: -40.000 Z: 1.360\n",
    "< 21:11:27: Bed X: -50.000 Y: -40.000 Z: 1.440\n",
    "< 21:11:27: Bed X: -45.000 Y: -40.000 Z: 1.530\n",
    "< 21:11:28: Bed X: -40.000 Y: -40.000 Z: 1.580\n",
    "< 21:11:28: Bed X: -35.000 Y: -40.000 Z: 1.670\n",
    "< 21:11:29: Bed X: -30.000 Y: -40.000 Z: 1.750\n",
    "< 21:11:29: Bed X: -25.000 Y: -40.000 Z: 1.820\n",
    "< 21:11:30: Bed X: -20.000 Y: -40.000 Z: 1.880\n",
    "< 21:11:30: Bed X: -15.000 Y: -40.000 Z: 1.920\n",
    "< 21:11:31: Bed X: -10.000 Y: -40.000 Z: 1.950\n",
    "< 21:11:31: Bed X: -5.000 Y: -40.000 Z: 2.010\n",
    "< 21:11:32: Bed X: 0.000 Y: -40.000 Z: 2.010\n",
    "< 21:11:32: Bed X: 5.000 Y: -40.000 Z: 2.030\n",
    "< 21:11:33: Bed X: 10.000 Y: -40.000 Z: 2.010\n",
    "< 21:11:34: Bed X: 15.000 Y: -40.000 Z: 2.010\n",
    "< 21:11:34: Bed X: 20.000 Y: -40.000 Z: 1.960\n",
    "< 21:11:35: Bed X: 25.000 Y: -40.000 Z: 1.920\n",
    "< 21:11:35: Bed X: 30.000 Y: -40.000 Z: 1.820\n",
    "< 21:11:36: Bed X: 35.000 Y: -40.000 Z: 1.770\n",
    "< 21:11:36: Bed X: 40.000 Y: -40.000 Z: 1.670\n",
    "< 21:11:37: Bed X: 45.000 Y: -40.000 Z: 1.610\n",
    "< 21:11:37: Bed X: 50.000 Y: -40.000 Z: 1.640\n",
    "< 21:11:38: Bed X: 50.000 Y: -35.000 Z: 1.740\n",
    "< 21:11:38: Bed X: 45.000 Y: -35.000 Z: 1.750\n",
    "< 21:11:39: Bed X: 40.000 Y: -35.000 Z: 1.810\n",
    "< 21:11:39: Bed X: 35.000 Y: -35.000 Z: 1.870\n",
    "< 21:11:40: Bed X: 30.000 Y: -35.000 Z: 1.940\n",
    "< 21:11:41: Bed X: 25.000 Y: -35.000 Z: 2.010\n",
    "< 21:11:41: Bed X: 20.000 Y: -35.000 Z: 2.060\n",
    "< 21:11:42: Bed X: 15.000 Y: -35.000 Z: 2.100\n",
    "< 21:11:42: Bed X: 10.000 Y: -35.000 Z: 2.110\n",
    "< 21:11:43: Bed X: 5.000 Y: -35.000 Z: 2.100\n",
    "< 21:11:43: Bed X: 0.000 Y: -35.000 Z: 2.090\n",
    "< 21:11:44: Bed X: -5.000 Y: -35.000 Z: 2.090\n",
    "< 21:11:44: Bed X: -10.000 Y: -35.000 Z: 2.030\n",
    "< 21:11:45: Bed X: -15.000 Y: -35.000 Z: 2.020\n",
    "< 21:11:45: Bed X: -20.000 Y: -35.000 Z: 1.950\n",
    "< 21:11:46: Bed X: -25.000 Y: -35.000 Z: 1.910\n",
    "< 21:11:46: Bed X: -30.000 Y: -35.000 Z: 1.830\n",
    "< 21:11:47: Bed X: -35.000 Y: -35.000 Z: 1.760\n",
    "< 21:11:47: Bed X: -40.000 Y: -35.000 Z: 1.660\n",
    "< 21:11:48: Bed X: -45.000 Y: -35.000 Z: 1.570\n",
    "< 21:11:49: Bed X: -50.000 Y: -35.000 Z: 1.510\n",
    "< 21:11:49: Bed X: -55.000 Y: -35.000 Z: 1.450\n",
    "< 21:11:50: Bed X: -60.000 Y: -35.000 Z: 1.350\n",
    "< 21:11:50: Bed X: -60.000 Y: -30.000 Z: 1.380\n",
    "< 21:11:51: Bed X: -55.000 Y: -30.000 Z: 1.500\n",
    "< 21:11:51: Bed X: -50.000 Y: -30.000 Z: 1.540\n",
    "< 21:11:52: Bed X: -45.000 Y: -30.000 Z: 1.640\n",
    "< 21:11:52: Bed X: -40.000 Y: -30.000 Z: 1.720\n",
    "< 21:11:53: Bed X: -35.000 Y: -30.000 Z: 1.830\n",
    "< 21:11:53: Bed X: -30.000 Y: -30.000 Z: 1.920\n",
    "< 21:11:54: Bed X: -25.000 Y: -30.000 Z: 2.000\n",
    "< 21:11:55: Bed X: -20.000 Y: -30.000 Z: 2.050\n",
    "< 21:11:55: Bed X: -15.000 Y: -30.000 Z: 2.110\n",
    "< 21:11:56: Bed X: -10.000 Y: -30.000 Z: 2.150\n",
    "< 21:11:56: Bed X: -5.000 Y: -30.000 Z: 2.210\n",
    "< 21:11:57: Bed X: 0.000 Y: -30.000 Z: 2.200\n",
    "< 21:11:57: Bed X: 5.000 Y: -30.000 Z: 2.220\n",
    "< 21:11:58: Bed X: 10.000 Y: -30.000 Z: 2.230\n",
    "< 21:11:58: Bed X: 15.000 Y: -30.000 Z: 2.230\n",
    "< 21:11:59: Bed X: 20.000 Y: -30.000 Z: 2.200\n",
    "< 21:11:59: Bed X: 25.000 Y: -30.000 Z: 2.120\n",
    "< 21:12:00: Bed X: 30.000 Y: -30.000 Z: 2.080\n",
    "< 21:12:00: Bed X: 35.000 Y: -30.000 Z: 1.990\n",
    "< 21:12:01: Bed X: 40.000 Y: -30.000 Z: 1.930\n",
    "< 21:12:01: Bed X: 45.000 Y: -30.000 Z: 1.890\n",
    "< 21:12:02: Bed X: 50.000 Y: -30.000 Z: 1.870\n",
    "< 21:12:03: Bed X: 50.000 Y: -25.000 Z: 2.000\n",
    "< 21:12:03: Bed X: 45.000 Y: -25.000 Z: 1.990\n",
    "< 21:12:04: Bed X: 40.000 Y: -25.000 Z: 2.040\n",
    "< 21:12:04: Bed X: 35.000 Y: -25.000 Z: 2.100\n",
    "< 21:12:05: Bed X: 30.000 Y: -25.000 Z: 2.170\n",
    "< 21:12:05: Bed X: 25.000 Y: -25.000 Z: 2.240\n",
    "< 21:12:06: Bed X: 20.000 Y: -25.000 Z: 2.280\n",
    "< 21:12:06: Bed X: 15.000 Y: -25.000 Z: 2.280\n",
    "< 21:12:07: Bed X: 10.000 Y: -25.000 Z: 2.310\n",
    "< 21:12:07: Bed X: 5.000 Y: -25.000 Z: 2.300\n",
    "< 21:12:08: Bed X: 0.000 Y: -25.000 Z: 2.280\n",
    "< 21:12:08: Bed X: -5.000 Y: -25.000 Z: 2.260\n",
    "< 21:12:09: Bed X: -10.000 Y: -25.000 Z: 2.210\n",
    "< 21:12:09: Bed X: -15.000 Y: -25.000 Z: 2.170\n",
    "< 21:12:10: Bed X: -20.000 Y: -25.000 Z: 2.120\n",
    "< 21:12:11: Bed X: -25.000 Y: -25.000 Z: 2.060\n",
    "< 21:12:11: Bed X: -30.000 Y: -25.000 Z: 1.990\n",
    "< 21:12:12: Bed X: -35.000 Y: -25.000 Z: 1.900\n",
    "< 21:12:12: Bed X: -40.000 Y: -25.000 Z: 1.810\n",
    "< 21:12:13: Bed X: -45.000 Y: -25.000 Z: 1.720\n",
    "< 21:12:13: Bed X: -50.000 Y: -25.000 Z: 1.640\n",
    "< 21:12:14: Bed X: -55.000 Y: -25.000 Z: 1.560\n",
    "< 21:12:14: Bed X: -60.000 Y: -25.000 Z: 1.450\n",
    "< 21:12:15: Bed X: -65.000 Y: -25.000 Z: 1.350\n",
    "< 21:12:16: Bed X: -65.000 Y: -20.000 Z: 1.420\n",
    "< 21:12:16: Bed X: -60.000 Y: -20.000 Z: 1.520\n",
    "< 21:12:17: Bed X: -55.000 Y: -20.000 Z: 1.630\n",
    "< 21:12:17: Bed X: -50.000 Y: -20.000 Z: 1.710\n",
    "< 21:12:18: Bed X: -45.000 Y: -20.000 Z: 1.770\n",
    "< 21:12:18: Bed X: -40.000 Y: -20.000 Z: 1.880\n",
    "< 21:12:19: Bed X: -35.000 Y: -20.000 Z: 2.000\n",
    "< 21:12:19: Bed X: -30.000 Y: -20.000 Z: 2.070\n",
    "< 21:12:20: Bed X: -25.000 Y: -20.000 Z: 2.130\n",
    "< 21:12:20: Bed X: -20.000 Y: -20.000 Z: 2.200\n",
    "< 21:12:21: Bed X: -15.000 Y: -20.000 Z: 2.260\n",
    "< 21:12:21: Bed X: -10.000 Y: -20.000 Z: 2.300\n",
    "< 21:12:22: Bed X: -5.000 Y: -20.000 Z: 2.350\n",
    "< 21:12:22: Bed X: 0.000 Y: -20.000 Z: 2.380\n",
    "< 21:12:23: Bed X: 5.000 Y: -20.000 Z: 2.400\n",
    "< 21:12:24: Bed X: 10.000 Y: -20.000 Z: 2.390\n",
    "< 21:12:24: Bed X: 15.000 Y: -20.000 Z: 2.400\n",
    "< 21:12:25: Bed X: 20.000 Y: -20.000 Z: 2.370\n",
    "< 21:12:25: Bed X: 25.000 Y: -20.000 Z: 2.330\n",
    "< 21:12:26: Bed X: 30.000 Y: -20.000 Z: 2.280\n",
    "< 21:12:26: Bed X: 35.000 Y: -20.000 Z: 2.220\n",
    "< 21:12:27: Bed X: 40.000 Y: -20.000 Z: 2.170\n",
    "< 21:12:27: Bed X: 45.000 Y: -20.000 Z: 2.140\n",
    "< 21:12:28: Bed X: 50.000 Y: -20.000 Z: 2.130\n",
    "< 21:12:28: Bed X: 50.000 Y: -15.000 Z: 2.220\n",
    "< 21:12:29: Bed X: 45.000 Y: -15.000 Z: 2.270\n",
    "< 21:12:30: Bed X: 40.000 Y: -15.000 Z: 2.250\n",
    "< 21:12:30: Bed X: 35.000 Y: -15.000 Z: 2.310\n",
    "< 21:12:31: Bed X: 30.000 Y: -15.000 Z: 2.380\n",
    "< 21:12:31: Bed X: 25.000 Y: -15.000 Z: 2.430\n",
    "< 21:12:32: Bed X: 20.000 Y: -15.000 Z: 2.470\n",
    "< 21:12:32: Bed X: 15.000 Y: -15.000 Z: 2.500\n",
    "< 21:12:33: Bed X: 10.000 Y: -15.000 Z: 2.490\n",
    "< 21:12:33: Bed X: 5.000 Y: -15.000 Z: 2.480\n",
    "< 21:12:34: Bed X: 0.000 Y: -15.000 Z: 2.440\n",
    "< 21:12:34: Bed X: -5.000 Y: -15.000 Z: 2.380\n",
    "< 21:12:35: Bed X: -10.000 Y: -15.000 Z: 2.380\n",
    "< 21:12:35: Bed X: -15.000 Y: -15.000 Z: 2.330\n",
    "< 21:12:36: Bed X: -20.000 Y: -15.000 Z: 2.290\n",
    "< 21:12:36: Bed X: -25.000 Y: -15.000 Z: 2.220\n",
    "< 21:12:37: Bed X: -30.000 Y: -15.000 Z: 2.150\n",
    "< 21:12:38: Bed X: -35.000 Y: -15.000 Z: 2.060\n",
    "< 21:12:38: Bed X: -40.000 Y: -15.000 Z: 1.980\n",
    "< 21:12:39: Bed X: -45.000 Y: -15.000 Z: 1.880\n",
    "< 21:12:39: Bed X: -50.000 Y: -15.000 Z: 1.790\n",
    "< 21:12:40: Bed X: -55.000 Y: -15.000 Z: 1.730\n",
    "< 21:12:40: Bed X: -60.000 Y: -15.000 Z: 1.630\n",
    "< 21:12:41: Bed X: -65.000 Y: -15.000 Z: 1.520\n",
    "< 21:12:41: Bed X: -65.000 Y: -10.000 Z: 1.570\n",
    "< 21:12:42: Bed X: -60.000 Y: -10.000 Z: 1.670\n",
    "< 21:12:43: Bed X: -55.000 Y: -10.000 Z: 1.770\n",
    "< 21:12:43: Bed X: -50.000 Y: -10.000 Z: 1.870\n",
    "< 21:12:44: Bed X: -45.000 Y: -10.000 Z: 1.940\n",
    "< 21:12:44: Bed X: -40.000 Y: -10.000 Z: 2.040\n",
    "< 21:12:45: Bed X: -35.000 Y: -10.000 Z: 2.130\n",
    "< 21:12:45: Bed X: -30.000 Y: -10.000 Z: 2.220\n",
    "< 21:12:46: Bed X: -25.000 Y: -10.000 Z: 2.300\n",
    "< 21:12:46: Bed X: -20.000 Y: -10.000 Z: 2.370\n",
    "< 21:12:47: Bed X: -15.000 Y: -10.000 Z: 2.410\n",
    "< 21:12:47: Bed X: -10.000 Y: -10.000 Z: 2.470\n",
    "< 21:12:48: Bed X: -5.000 Y: -10.000 Z: 2.530\n",
    "< 21:12:48: Bed X: 0.000 Y: -10.000 Z: 2.540\n",
    "< 21:12:49: Bed X: 5.000 Y: -10.000 Z: 2.560\n",
    "< 21:12:49: Bed X: 10.000 Y: -10.000 Z: 2.590\n",
    "< 21:12:50: Bed X: 15.000 Y: -10.000 Z: 2.600\n",
    "< 21:12:50: Bed X: 20.000 Y: -10.000 Z: 2.570\n",
    "< 21:12:51: Bed X: 25.000 Y: -10.000 Z: 2.530\n",
    "< 21:12:52: Bed X: 30.000 Y: -10.000 Z: 2.480\n",
    "< 21:12:52: Bed X: 35.000 Y: -10.000 Z: 2.410\n",
    "< 21:12:53: Bed X: 40.000 Y: -10.000 Z: 2.350\n",
    "< 21:12:53: Bed X: 45.000 Y: -10.000 Z: 2.340\n",
    "< 21:12:54: Bed X: 50.000 Y: -10.000 Z: 2.310\n",
    "< 21:12:54: Bed X: 50.000 Y: -5.000 Z: 2.430\n",
    "< 21:12:55: Bed X: 45.000 Y: -5.000 Z: 2.410\n",
    "< 21:12:55: Bed X: 40.000 Y: -5.000 Z: 2.450\n",
    "< 21:12:56: Bed X: 35.000 Y: -5.000 Z: 2.490\n",
    "< 21:12:56: Bed X: 30.000 Y: -5.000 Z: 2.560\n",
    "< 21:12:57: Bed X: 25.000 Y: -5.000 Z: 2.600\n",
    "< 21:12:57: Bed X: 20.000 Y: -5.000 Z: 2.650\n",
    "< 21:12:58: Bed X: 15.000 Y: -5.000 Z: 2.660\n",
    "< 21:12:59: Bed X: 10.000 Y: -5.000 Z: 2.670\n",
    "< 21:12:59: Bed X: 5.000 Y: -5.000 Z: 2.650\n",
    "< 21:13:00: Bed X: 0.000 Y: -5.000 Z: 2.630\n",
    "< 21:13:00: Bed X: -5.000 Y: -5.000 Z: 2.590\n",
    "< 21:13:01: Bed X: -10.000 Y: -5.000 Z: 2.550\n",
    "< 21:13:01: Bed X: -15.000 Y: -5.000 Z: 2.490\n",
    "< 21:13:02: Bed X: -20.000 Y: -5.000 Z: 2.440\n",
    "< 21:13:02: Bed X: -25.000 Y: -5.000 Z: 2.370\n",
    "< 21:13:03: Bed X: -30.000 Y: -5.000 Z: 2.300\n",
    "< 21:13:03: Bed X: -35.000 Y: -5.000 Z: 2.210\n",
    "< 21:13:04: Bed X: -40.000 Y: -5.000 Z: 2.110\n",
    "< 21:13:04: Bed X: -45.000 Y: -5.000 Z: 2.030\n",
    "< 21:13:05: Bed X: -50.000 Y: -5.000 Z: 1.960\n",
    "< 21:13:06: Bed X: -55.000 Y: -5.000 Z: 1.870\n",
    "< 21:13:06: Bed X: -60.000 Y: -5.000 Z: 1.760\n",
    "< 21:13:07: Bed X: -65.000 Y: -5.000 Z: 1.650\n",
    "< 21:13:07: Bed X: -70.000 Y: 0.000 Z: 1.610\n",
    "< 21:13:08: Bed X: -65.000 Y: 0.000 Z: 1.730\n",
    "< 21:13:08: Bed X: -60.000 Y: 0.000 Z: 1.820\n",
    "< 21:13:09: Bed X: -55.000 Y: 0.000 Z: 1.920\n",
    "< 21:13:09: Bed X: -50.000 Y: 0.000 Z: 2.000\n",
    "< 21:13:10: Bed X: -45.000 Y: 0.000 Z: 2.090\n",
    "< 21:13:11: Bed X: -40.000 Y: 0.000 Z: 2.180\n",
    "< 21:13:11: Bed X: -35.000 Y: 0.000 Z: 2.280\n",
    "< 21:13:12: Bed X: -30.000 Y: 0.000 Z: 2.360\n",
    "< 21:13:12: Bed X: -25.000 Y: 0.000 Z: 2.460\n",
    "< 21:13:13: Bed X: -20.000 Y: 0.000 Z: 2.530\n",
    "< 21:13:13: Bed X: -15.000 Y: 0.000 Z: 2.570\n",
    "< 21:13:14: Bed X: -10.000 Y: 0.000 Z: 2.650\n",
    "< 21:13:14: Bed X: -5.000 Y: 0.000 Z: 2.670\n",
    "< 21:13:15: Bed X: 0.000 Y: 0.000 Z: 2.710\n",
    "< 21:13:15: Bed X: 5.000 Y: 0.000 Z: 2.740\n",
    "< 21:13:16: Bed X: 10.000 Y: 0.000 Z: 2.750\n",
    "< 21:13:16: Bed X: 15.000 Y: 0.000 Z: 2.750\n",
    "< 21:13:17: Bed X: 20.000 Y: 0.000 Z: 2.750\n",
    "< 21:13:17: Bed X: 25.000 Y: 0.000 Z: 2.700\n",
    "< 21:13:18: Bed X: 30.000 Y: 0.000 Z: 2.660\n",
    "< 21:13:18: Bed X: 35.000 Y: 0.000 Z: 2.590\n",
    "< 21:13:19: Bed X: 40.000 Y: 0.000 Z: 2.540\n",
    "< 21:13:20: Bed X: 45.000 Y: 0.000 Z: 2.540\n",
    "< 21:13:20: Bed X: 50.000 Y: 0.000 Z: 2.530\n",
    "< 21:13:21: Bed X: 50.000 Y: 5.000 Z: 2.610\n",
    "< 21:13:21: Bed X: 45.000 Y: 5.000 Z: 2.620\n",
    "< 21:13:22: Bed X: 40.000 Y: 5.000 Z: 2.640\n",
    "< 21:13:22: Bed X: 35.000 Y: 5.000 Z: 2.690\n",
    "< 21:13:23: Bed X: 30.000 Y: 5.000 Z: 2.730\n",
    "< 21:13:23: Bed X: 25.000 Y: 5.000 Z: 2.790\n",
    "< 21:13:24: Bed X: 20.000 Y: 5.000 Z: 2.810\n",
    "< 21:13:24: Bed X: 15.000 Y: 5.000 Z: 2.820\n",
    "< 21:13:25: Bed X: 10.000 Y: 5.000 Z: 2.830\n",
    "< 21:13:25: Bed X: 5.000 Y: 5.000 Z: 2.810\n",
    "< 21:13:26: Bed X: 0.000 Y: 5.000 Z: 2.780\n",
    "< 21:13:27: Bed X: -5.000 Y: 5.000 Z: 2.750\n",
    "< 21:13:27: Bed X: -10.000 Y: 5.000 Z: 2.700\n",
    "< 21:13:28: Bed X: -15.000 Y: 5.000 Z: 2.660\n",
    "< 21:13:28: Bed X: -20.000 Y: 5.000 Z: 2.600\n",
    "< 21:13:29: Bed X: -25.000 Y: 5.000 Z: 2.520\n",
    "< 21:13:29: Bed X: -30.000 Y: 5.000 Z: 2.450\n",
    "< 21:13:30: Bed X: -35.000 Y: 5.000 Z: 2.360\n",
    "< 21:13:30: Bed X: -40.000 Y: 5.000 Z: 2.260\n",
    "< 21:13:31: Bed X: -45.000 Y: 5.000 Z: 2.180\n",
    "< 21:13:31: Bed X: -50.000 Y: 5.000 Z: 2.090\n",
    "< 21:13:32: Bed X: -55.000 Y: 5.000 Z: 2.000\n",
    "< 21:13:33: Bed X: -60.000 Y: 5.000 Z: 1.890\n",
    "< 21:13:33: Bed X: -65.000 Y: 5.000 Z: 1.800\n",
    "< 21:13:34: Bed X: -65.000 Y: 10.000 Z: 1.840\n",
    "< 21:13:34: Bed X: -60.000 Y: 10.000 Z: 1.940\n",
    "< 21:13:35: Bed X: -55.000 Y: 10.000 Z: 2.050\n",
    "< 21:13:35: Bed X: -50.000 Y: 10.000 Z: 2.150\n",
    "< 21:13:36: Bed X: -45.000 Y: 10.000 Z: 2.230\n",
    "< 21:13:36: Bed X: -40.000 Y: 10.000 Z: 2.310\n",
    "< 21:13:37: Bed X: -35.000 Y: 10.000 Z: 2.410\n",
    "< 21:13:37: Bed X: -30.000 Y: 10.000 Z: 2.510\n",
    "< 21:13:38: Bed X: -25.000 Y: 10.000 Z: 2.600\n",
    "< 21:13:38: Bed X: -20.000 Y: 10.000 Z: 2.660\n",
    "< 21:13:39: Bed X: -15.000 Y: 10.000 Z: 2.720\n",
    "< 21:13:40: Bed X: -10.000 Y: 10.000 Z: 2.780\n",
    "< 21:13:40: Bed X: -5.000 Y: 10.000 Z: 2.840\n",
    "< 21:13:41: Bed X: 0.000 Y: 10.000 Z: 2.860\n",
    "< 21:13:41: Bed X: 5.000 Y: 10.000 Z: 2.910\n",
    "< 21:13:42: Bed X: 10.000 Y: 10.000 Z: 2.920\n",
    "< 21:13:42: Bed X: 15.000 Y: 10.000 Z: 2.920\n",
    "< 21:13:43: Bed X: 20.000 Y: 10.000 Z: 2.900\n",
    "< 21:13:43: Bed X: 25.000 Y: 10.000 Z: 2.870\n",
    "< 21:13:44: Bed X: 30.000 Y: 10.000 Z: 2.830\n",
    "< 21:13:44: Bed X: 35.000 Y: 10.000 Z: 2.790\n",
    "< 21:13:45: Bed X: 40.000 Y: 10.000 Z: 2.750\n",
    "< 21:13:45: Bed X: 45.000 Y: 10.000 Z: 2.740\n",
    "< 21:13:46: Bed X: 50.000 Y: 10.000 Z: 2.750\n",
    "< 21:13:47: Bed X: 50.000 Y: 15.000 Z: 2.860\n",
    "< 21:13:47: Bed X: 45.000 Y: 15.000 Z: 2.840\n",
    "< 21:13:48: Bed X: 40.000 Y: 15.000 Z: 2.830\n",
    "< 21:13:48: Bed X: 35.000 Y: 15.000 Z: 2.860\n",
    "< 21:13:49: Bed X: 30.000 Y: 15.000 Z: 2.880\n",
    "< 21:13:49: Bed X: 25.000 Y: 15.000 Z: 2.920\n",
    "< 21:13:50: Bed X: 20.000 Y: 15.000 Z: 2.950\n",
    "< 21:13:50: Bed X: 15.000 Y: 15.000 Z: 2.970\n",
    "< 21:13:51: Bed X: 10.000 Y: 15.000 Z: 2.970\n",
    "< 21:13:51: Bed X: 5.000 Y: 15.000 Z: 2.970\n",
    "< 21:13:52: Bed X: 0.000 Y: 15.000 Z: 2.930\n",
    "< 21:13:52: Bed X: -5.000 Y: 15.000 Z: 2.880\n",
    "< 21:13:53: Bed X: -10.000 Y: 15.000 Z: 2.840\n",
    "< 21:13:53: Bed X: -15.000 Y: 15.000 Z: 2.790\n",
    "< 21:13:54: Bed X: -20.000 Y: 15.000 Z: 2.740\n",
    "< 21:13:55: Bed X: -25.000 Y: 15.000 Z: 2.650\n",
    "< 21:13:55: Bed X: -30.000 Y: 15.000 Z: 2.570\n",
    "< 21:13:56: Bed X: -35.000 Y: 15.000 Z: 2.490\n",
    "< 21:13:56: Bed X: -40.000 Y: 15.000 Z: 2.380\n",
    "< 21:13:57: Bed X: -45.000 Y: 15.000 Z: 2.310\n",
    "< 21:13:57: Bed X: -50.000 Y: 15.000 Z: 2.220\n",
    "< 21:13:58: Bed X: -55.000 Y: 15.000 Z: 2.110\n",
    "< 21:13:58: Bed X: -60.000 Y: 15.000 Z: 2.000\n",
    "< 21:13:59: Bed X: -65.000 Y: 15.000 Z: 1.910\n",
    "< 21:13:59: Bed X: -65.000 Y: 20.000 Z: 1.920\n",
    "< 21:14:00: Bed X: -60.000 Y: 20.000 Z: 2.040\n",
    "< 21:14:01: Bed X: -55.000 Y: 20.000 Z: 2.160\n",
    "< 21:14:01: Bed X: -50.000 Y: 20.000 Z: 2.280\n",
    "< 21:14:02: Bed X: -45.000 Y: 20.000 Z: 2.370\n",
    "< 21:14:02: Bed X: -40.000 Y: 20.000 Z: 2.450\n",
    "< 21:14:03: Bed X: -35.000 Y: 20.000 Z: 2.530\n",
    "< 21:14:03: Bed X: -30.000 Y: 20.000 Z: 2.630\n",
    "< 21:14:04: Bed X: -25.000 Y: 20.000 Z: 2.720\n",
    "< 21:14:04: Bed X: -20.000 Y: 20.000 Z: 2.780\n",
    "< 21:14:05: Bed X: -15.000 Y: 20.000 Z: 2.860\n",
    "< 21:14:05: Bed X: -10.000 Y: 20.000 Z: 2.920\n",
    "< 21:14:06: Bed X: -5.000 Y: 20.000 Z: 2.970\n",
    "< 21:14:06: Bed X: 0.000 Y: 20.000 Z: 3.010\n",
    "< 21:14:07: Bed X: 5.000 Y: 20.000 Z: 3.050\n",
    "< 21:14:07: Bed X: 10.000 Y: 20.000 Z: 3.050\n",
    "< 21:14:08: Bed X: 15.000 Y: 20.000 Z: 3.070\n",
    "< 21:14:09: Bed X: 20.000 Y: 20.000 Z: 3.050\n",
    "< 21:14:09: Bed X: 25.000 Y: 20.000 Z: 3.020\n",
    "< 21:14:10: Bed X: 30.000 Y: 20.000 Z: 2.980\n",
    "< 21:14:10: Bed X: 35.000 Y: 20.000 Z: 2.960\n",
    "< 21:14:11: Bed X: 40.000 Y: 20.000 Z: 2.920\n",
    "< 21:14:11: Bed X: 45.000 Y: 20.000 Z: 2.930\n",
    "< 21:14:12: Bed X: 50.000 Y: 20.000 Z: 2.950\n",
    "< 21:14:12: Bed X: 50.000 Y: 25.000 Z: 3.080\n",
    "< 21:14:13: Bed X: 45.000 Y: 25.000 Z: 3.010\n",
    "< 21:14:13: Bed X: 40.000 Y: 25.000 Z: 3.010\n",
    "< 21:14:14: Bed X: 35.000 Y: 25.000 Z: 3.020\n",
    "< 21:14:15: Bed X: 30.000 Y: 25.000 Z: 3.040\n",
    "< 21:14:15: Bed X: 25.000 Y: 25.000 Z: 3.060\n",
    "< 21:14:16: Bed X: 20.000 Y: 25.000 Z: 3.090\n",
    "< 21:14:16: Bed X: 15.000 Y: 25.000 Z: 3.100\n",
    "< 21:14:17: Bed X: 10.000 Y: 25.000 Z: 3.100\n",
    "< 21:14:17: Bed X: 5.000 Y: 25.000 Z: 3.080\n",
    "< 21:14:18: Bed X: 0.000 Y: 25.000 Z: 3.050\n",
    "< 21:14:18: Bed X: -5.000 Y: 25.000 Z: 3.010\n",
    "< 21:14:19: Bed X: -10.000 Y: 25.000 Z: 3.030\n",
    "< 21:14:19: Bed X: -15.000 Y: 25.000 Z: 2.900\n",
    "< 21:14:20: Bed X: -20.000 Y: 25.000 Z: 2.840\n",
    "< 21:14:20: Bed X: -25.000 Y: 25.000 Z: 2.780\n",
    "< 21:14:21: Bed X: -30.000 Y: 25.000 Z: 2.680\n",
    "< 21:14:22: Bed X: -35.000 Y: 25.000 Z: 2.580\n",
    "< 21:14:22: Bed X: -40.000 Y: 25.000 Z: 2.500\n",
    "< 21:14:23: Bed X: -45.000 Y: 25.000 Z: 2.410\n",
    "< 21:14:23: Bed X: -50.000 Y: 25.000 Z: 2.310\n",
    "< 21:14:24: Bed X: -55.000 Y: 25.000 Z: 2.230\n",
    "< 21:14:24: Bed X: -60.000 Y: 25.000 Z: 2.120\n",
    "< 21:14:25: Bed X: -65.000 Y: 25.000 Z: 2.010\n",
    "< 21:14:25: Bed X: -60.000 Y: 30.000 Z: 2.150\n",
    "< 21:14:26: Bed X: -55.000 Y: 30.000 Z: 2.260\n",
    "< 21:14:27: Bed X: -50.000 Y: 30.000 Z: 2.360\n",
    "< 21:14:27: Bed X: -45.000 Y: 30.000 Z: 2.460\n",
    "< 21:14:28: Bed X: -40.000 Y: 30.000 Z: 2.550\n",
    "< 21:14:28: Bed X: -35.000 Y: 30.000 Z: 2.640\n",
    "< 21:14:29: Bed X: -30.000 Y: 30.000 Z: 2.720\n",
    "< 21:14:29: Bed X: -25.000 Y: 30.000 Z: 2.810\n",
    "< 21:14:30: Bed X: -20.000 Y: 30.000 Z: 2.890\n",
    "< 21:14:30: Bed X: -15.000 Y: 30.000 Z: 2.960\n",
    "< 21:14:31: Bed X: -10.000 Y: 30.000 Z: 3.030\n",
    "< 21:14:31: Bed X: -5.000 Y: 30.000 Z: 3.070\n",
    "< 21:14:32: Bed X: 0.000 Y: 30.000 Z: 3.110\n",
    "< 21:14:32: Bed X: 5.000 Y: 30.000 Z: 3.150\n",
    "< 21:14:33: Bed X: 10.000 Y: 30.000 Z: 3.150\n",
    "< 21:14:33: Bed X: 15.000 Y: 30.000 Z: 3.160\n",
    "< 21:14:34: Bed X: 20.000 Y: 30.000 Z: 3.150\n",
    "< 21:14:34: Bed X: 25.000 Y: 30.000 Z: 3.130\n",
    "< 21:14:35: Bed X: 30.000 Y: 30.000 Z: 3.110\n",
    "< 21:14:36: Bed X: 35.000 Y: 30.000 Z: 3.100\n",
    "< 21:14:36: Bed X: 40.000 Y: 30.000 Z: 3.090\n",
    "< 21:14:37: Bed X: 45.000 Y: 30.000 Z: 3.120\n",
    "< 21:14:37: Bed X: 50.000 Y: 30.000 Z: 3.140\n",
    "< 21:14:38: Bed X: 50.000 Y: 35.000 Z: 3.210\n",
    "< 21:14:38: Bed X: 45.000 Y: 35.000 Z: 3.190\n",
    "< 21:14:39: Bed X: 40.000 Y: 35.000 Z: 3.160\n",
    "< 21:14:39: Bed X: 35.000 Y: 35.000 Z: 3.140\n",
    "< 21:14:40: Bed X: 30.000 Y: 35.000 Z: 3.160\n",
    "< 21:14:40: Bed X: 25.000 Y: 35.000 Z: 3.170\n",
    "< 21:14:41: Bed X: 20.000 Y: 35.000 Z: 3.180\n",
    "< 21:14:41: Bed X: 15.000 Y: 35.000 Z: 3.190\n",
    "< 21:14:42: Bed X: 10.000 Y: 35.000 Z: 3.190\n",
    "< 21:14:43: Bed X: 5.000 Y: 35.000 Z: 3.170\n",
    "< 21:14:43: Bed X: 0.000 Y: 35.000 Z: 3.140\n",
    "< 21:14:44: Bed X: -5.000 Y: 35.000 Z: 3.100\n",
    "< 21:14:44: Bed X: -10.000 Y: 35.000 Z: 3.060\n",
    "< 21:14:45: Bed X: -15.000 Y: 35.000 Z: 3.010\n",
    "< 21:14:45: Bed X: -20.000 Y: 35.000 Z: 2.930\n",
    "< 21:14:46: Bed X: -25.000 Y: 35.000 Z: 2.850\n",
    "< 21:14:46: Bed X: -30.000 Y: 35.000 Z: 2.770\n",
    "< 21:14:47: Bed X: -35.000 Y: 35.000 Z: 2.680\n",
    "< 21:14:47: Bed X: -40.000 Y: 35.000 Z: 2.600\n",
    "< 21:14:48: Bed X: -45.000 Y: 35.000 Z: 2.520\n",
    "< 21:14:49: Bed X: -50.000 Y: 35.000 Z: 2.410\n",
    "< 21:14:49: Bed X: -55.000 Y: 35.000 Z: 2.310\n",
    "< 21:14:50: Bed X: -60.000 Y: 35.000 Z: 2.200\n",
    "< 21:14:50: Bed X: -55.000 Y: 40.000 Z: 2.330\n",
    "< 21:14:51: Bed X: -50.000 Y: 40.000 Z: 2.450\n",
    "< 21:14:51: Bed X: -45.000 Y: 40.000 Z: 2.530\n",
    "< 21:14:52: Bed X: -40.000 Y: 40.000 Z: 2.650\n",
    "< 21:14:52: Bed X: -35.000 Y: 40.000 Z: 2.720\n",
    "< 21:14:53: Bed X: -30.000 Y: 40.000 Z: 2.810\n",
    "< 21:14:53: Bed X: -25.000 Y: 40.000 Z: 2.900\n",
    "< 21:14:54: Bed X: -20.000 Y: 40.000 Z: 2.980\n",
    "< 21:14:54: Bed X: -15.000 Y: 40.000 Z: 3.040\n",
    "< 21:14:55: Bed X: -10.000 Y: 40.000 Z: 3.100\n",
    "< 21:14:56: Bed X: -5.000 Y: 40.000 Z: 3.150\n",
    "< 21:14:56: Bed X: 0.000 Y: 40.000 Z: 3.180\n",
    "< 21:14:57: Bed X: 5.000 Y: 40.000 Z: 3.200\n",
    "< 21:14:57: Bed X: 10.000 Y: 40.000 Z: 3.230\n",
    "< 21:14:58: Bed X: 15.000 Y: 40.000 Z: 3.240\n",
    "< 21:14:58: Bed X: 20.000 Y: 40.000 Z: 3.230\n",
    "< 21:14:59: Bed X: 25.000 Y: 40.000 Z: 3.230\n",
    "< 21:14:59: Bed X: 30.000 Y: 40.000 Z: 3.230\n",
    "< 21:15:00: Bed X: 35.000 Y: 40.000 Z: 3.220\n",
    "< 21:15:00: Bed X: 40.000 Y: 40.000 Z: 3.250\n",
    "< 21:15:01: Bed X: 45.000 Y: 40.000 Z: 3.260\n",
    "< 21:15:01: Bed X: 50.000 Y: 40.000 Z: 3.280\n",
    "< 21:15:02: Bed X: 50.000 Y: 45.000 Z: 3.330\n",
    "< 21:15:03: Bed X: 45.000 Y: 45.000 Z: 3.310\n",
    "< 21:15:03: Bed X: 40.000 Y: 45.000 Z: 3.290\n",
    "< 21:15:04: Bed X: 35.000 Y: 45.000 Z: 3.270\n",
    "< 21:15:04: Bed X: 30.000 Y: 45.000 Z: 3.250\n",
    "< 21:15:05: Bed X: 25.000 Y: 45.000 Z: 3.260\n",
    "< 21:15:05: Bed X: 20.000 Y: 45.000 Z: 3.260\n",
    "< 21:15:06: Bed X: 15.000 Y: 45.000 Z: 3.260\n",
    "< 21:15:06: Bed X: 10.000 Y: 45.000 Z: 3.240\n",
    "< 21:15:07: Bed X: 5.000 Y: 45.000 Z: 3.240\n",
    "< 21:15:07: Bed X: 0.000 Y: 45.000 Z: 3.210\n",
    "< 21:15:08: Bed X: -5.000 Y: 45.000 Z: 3.190\n",
    "< 21:15:08: Bed X: -10.000 Y: 45.000 Z: 3.130\n",
    "< 21:15:09: Bed X: -15.000 Y: 45.000 Z: 3.080\n",
    "< 21:15:10: Bed X: -20.000 Y: 45.000 Z: 3.010\n",
    "< 21:15:10: Bed X: -25.000 Y: 45.000 Z: 2.930\n",
    "< 21:15:11: Bed X: -30.000 Y: 45.000 Z: 2.860\n",
    "< 21:15:11: Bed X: -35.000 Y: 45.000 Z: 2.790\n",
    "< 21:15:12: Bed X: -40.000 Y: 45.000 Z: 2.670\n",
    "< 21:15:12: Bed X: -45.000 Y: 45.000 Z: 2.580\n",
    "< 21:15:13: Bed X: -50.000 Y: 45.000 Z: 2.470\n",
    "< 21:15:13: Bed X: -45.000 Y: 50.000 Z: 2.620\n",
    "< 21:15:14: Bed X: -40.000 Y: 50.000 Z: 2.720\n",
    "< 21:15:14: Bed X: -35.000 Y: 50.000 Z: 2.810\n",
    "< 21:15:15: Bed X: -30.000 Y: 50.000 Z: 2.880\n",
    "< 21:15:16: Bed X: -25.000 Y: 50.000 Z: 2.960\n",
    "< 21:15:16: Bed X: -20.000 Y: 50.000 Z: 3.030\n",
    "< 21:15:17: Bed X: -15.000 Y: 50.000 Z: 3.090\n",
    "< 21:15:17: Bed X: -10.000 Y: 50.000 Z: 3.150\n",
    "< 21:15:18: Bed X: -5.000 Y: 50.000 Z: 3.200\n",
    "< 21:15:18: Bed X: 0.000 Y: 50.000 Z: 3.230\n",
    "< 21:15:19: Bed X: 5.000 Y: 50.000 Z: 3.260\n",
    "< 21:15:19: Bed X: 10.000 Y: 50.000 Z: 3.260\n",
    "< 21:15:20: Bed X: 15.000 Y: 50.000 Z: 3.270\n",
    "< 21:15:20: Bed X: 20.000 Y: 50.000 Z: 3.290\n",
    "< 21:15:21: Bed X: 25.000 Y: 50.000 Z: 3.290\n",
    "< 21:15:21: Bed X: 30.000 Y: 50.000 Z: 3.290\n",
    "< 21:15:22: Bed X: 35.000 Y: 50.000 Z: 3.330\n",
    "< 21:15:22: Bed X: 40.000 Y: 50.000 Z: 3.350\n",
    "< 21:15:23: Bed X: 45.000 Y: 50.000 Z: 3.370\n",
    "\"\"\""
   ]
  },
  {
   "cell_type": "markdown",
   "metadata": {},
   "source": [
    "Format the raw data as x, y, z vectors."
   ]
  },
  {
   "cell_type": "code",
   "execution_count": 4,
   "metadata": {
    "collapsed": false
   },
   "outputs": [],
   "source": [
    "lines = in_data.strip().splitlines()\n",
    "\n",
    "x = []\n",
    "y = []\n",
    "z = []\n",
    "for line in lines:\n",
    "    cols = line.split()\n",
    "    x.append(float(cols[4]))\n",
    "    y.append(float(cols[6]))\n",
    "    z.append(float(cols[8]))\n",
    "x = np.array(x)\n",
    "y = np.array(y)\n",
    "z = np.array(z)"
   ]
  },
  {
   "cell_type": "markdown",
   "metadata": {},
   "source": [
    "Set x and y axis offsets (X_PROBE_OFFSET_FROM_EXTRUDER and Y_PROBE_OFFSET_FROM_EXTRUDER)"
   ]
  },
  {
   "cell_type": "code",
   "execution_count": 5,
   "metadata": {
    "collapsed": true
   },
   "outputs": [],
   "source": [
    "# note that the offset values actually aren't used in delta leveling, but\n",
    "# we want to use them to improve calibration accuracy\n",
    "\n",
    "x_offset = 0.\n",
    "y_offset = -17.5\n",
    "\n",
    "x = x + x_offset\n",
    "y = y + y_offset"
   ]
  },
  {
   "cell_type": "code",
   "execution_count": 6,
   "metadata": {
    "collapsed": true
   },
   "outputs": [],
   "source": [
    "# limit the radius of the analysis to bed centre\n",
    "d = np.sqrt(x**2 + y**2)\n",
    "\n",
    "x = x[d < 50]\n",
    "y = y[d < 50]\n",
    "z = z[d < 50]"
   ]
  },
  {
   "cell_type": "markdown",
   "metadata": {},
   "source": [
    "z values acquired:"
   ]
  },
  {
   "cell_type": "code",
   "execution_count": 7,
   "metadata": {
    "collapsed": false
   },
   "outputs": [
    {
     "data": {
      "text/plain": [
       "array([ 2.11,  2.15,  2.21,  2.2 ,  2.22,  2.23,  2.23,  2.24,  2.28,\n",
       "        2.28,  2.31,  2.3 ,  2.28,  2.26,  2.21,  2.17,  2.12,  2.06,\n",
       "        2.07,  2.13,  2.2 ,  2.26,  2.3 ,  2.35,  2.38,  2.4 ,  2.39,\n",
       "        2.4 ,  2.37,  2.33,  2.28,  2.31,  2.38,  2.43,  2.47,  2.5 ,\n",
       "        2.49,  2.48,  2.44,  2.38,  2.38,  2.33,  2.29,  2.22,  2.15,\n",
       "        2.06,  2.04,  2.13,  2.22,  2.3 ,  2.37,  2.41,  2.47,  2.53,\n",
       "        2.54,  2.56,  2.59,  2.6 ,  2.57,  2.53,  2.48,  2.41,  2.35,\n",
       "        2.45,  2.49,  2.56,  2.6 ,  2.65,  2.66,  2.67,  2.65,  2.63,\n",
       "        2.59,  2.55,  2.49,  2.44,  2.37,  2.3 ,  2.21,  2.11,  2.09,\n",
       "        2.18,  2.28,  2.36,  2.46,  2.53,  2.57,  2.65,  2.67,  2.71,\n",
       "        2.74,  2.75,  2.75,  2.75,  2.7 ,  2.66,  2.59,  2.54,  2.54,\n",
       "        2.62,  2.64,  2.69,  2.73,  2.79,  2.81,  2.82,  2.83,  2.81,\n",
       "        2.78,  2.75,  2.7 ,  2.66,  2.6 ,  2.52,  2.45,  2.36,  2.26,\n",
       "        2.18,  2.23,  2.31,  2.41,  2.51,  2.6 ,  2.66,  2.72,  2.78,\n",
       "        2.84,  2.86,  2.91,  2.92,  2.92,  2.9 ,  2.87,  2.83,  2.79,\n",
       "        2.75,  2.74,  2.84,  2.83,  2.86,  2.88,  2.92,  2.95,  2.97,\n",
       "        2.97,  2.97,  2.93,  2.88,  2.84,  2.79,  2.74,  2.65,  2.57,\n",
       "        2.49,  2.38,  2.31,  2.37,  2.45,  2.53,  2.63,  2.72,  2.78,\n",
       "        2.86,  2.92,  2.97,  3.01,  3.05,  3.05,  3.07,  3.05,  3.02,\n",
       "        2.98,  2.96,  2.92,  2.93,  3.01,  3.01,  3.02,  3.04,  3.06,\n",
       "        3.09,  3.1 ,  3.1 ,  3.08,  3.05,  3.01,  3.03,  2.9 ,  2.84,\n",
       "        2.78,  2.68,  2.58,  2.5 ,  2.41,  2.46,  2.55,  2.64,  2.72,\n",
       "        2.81,  2.89,  2.96,  3.03,  3.07,  3.11,  3.15,  3.15,  3.16,\n",
       "        3.15,  3.13,  3.11,  3.1 ,  3.09,  3.12,  3.19,  3.16,  3.14,\n",
       "        3.16,  3.17,  3.18,  3.19,  3.19,  3.17,  3.14,  3.1 ,  3.06,\n",
       "        3.01,  2.93,  2.85,  2.77,  2.68,  2.6 ,  2.52,  2.65,  2.72,\n",
       "        2.81,  2.9 ,  2.98,  3.04,  3.1 ,  3.15,  3.18,  3.2 ,  3.23,\n",
       "        3.24,  3.23,  3.23,  3.23,  3.22,  3.25,  3.29,  3.27,  3.25,\n",
       "        3.26,  3.26,  3.26,  3.24,  3.24,  3.21,  3.19,  3.13,  3.08,\n",
       "        3.01,  2.93,  2.86,  2.79,  2.67,  2.81,  2.88,  2.96,  3.03,\n",
       "        3.09,  3.15,  3.2 ,  3.23,  3.26,  3.26,  3.27,  3.29,  3.29,\n",
       "        3.29,  3.33])"
      ]
     },
     "execution_count": 7,
     "metadata": {},
     "output_type": "execute_result"
    }
   ],
   "source": [
    "z"
   ]
  },
  {
   "cell_type": "markdown",
   "metadata": {},
   "source": [
    "## Plane calibration"
   ]
  },
  {
   "cell_type": "markdown",
   "metadata": {},
   "source": [
    "First, let's level the bed. Optimally, you should adjust physical bed leveling, but we can also do it in the software. Note that this is precisely what the \"G29\" command does."
   ]
  },
  {
   "cell_type": "markdown",
   "metadata": {},
   "source": [
    "Plot the raw values. Nice!"
   ]
  },
  {
   "cell_type": "code",
   "execution_count": 8,
   "metadata": {
    "collapsed": false
   },
   "outputs": [
    {
     "data": {
      "image/png": "[encoded data removed]",
      "text/plain": [
       "<matplotlib.figure.Figure at 0x10dbc0b70>"
      ]
     },
     "metadata": {},
     "output_type": "display_data"
    }
   ],
   "source": [
    "fig = plt.figure()\n",
    "ax = fig.gca(projection='3d')\n",
    "surf = ax.plot_trisurf(x, y, z, cmap=cm.coolwarm, linewidth=0)"
   ]
  },
  {
   "cell_type": "markdown",
   "metadata": {},
   "source": [
    "Solve (OK, we're lazy - optimize) the plane equation."
   ]
  },
  {
   "cell_type": "code",
   "execution_count": 9,
   "metadata": {
    "collapsed": true
   },
   "outputs": [],
   "source": [
    "def f(k_x, k_y, b):\n",
    "    return z + k_x * x + k_y * y + b"
   ]
  },
  {
   "cell_type": "code",
   "execution_count": 10,
   "metadata": {
    "collapsed": false
   },
   "outputs": [],
   "source": [
    "def fopt(k):\n",
    "    k_x, k_y, b = k\n",
    "    return f(k_x, k_y, b)"
   ]
  },
  {
   "cell_type": "code",
   "execution_count": 11,
   "metadata": {
    "collapsed": false
   },
   "outputs": [],
   "source": [
    "res = leastsq(fopt, [0, 0, 0])"
   ]
  },
  {
   "cell_type": "code",
   "execution_count": 12,
   "metadata": {
    "collapsed": false
   },
   "outputs": [
    {
     "data": {
      "text/plain": [
       "(array([-0.00570786, -0.01282366, -2.78900522]), 3)"
      ]
     },
     "execution_count": 12,
     "metadata": {},
     "output_type": "execute_result"
    }
   ],
   "source": [
    "res"
   ]
  },
  {
   "cell_type": "code",
   "execution_count": 13,
   "metadata": {
    "collapsed": false
   },
   "outputs": [],
   "source": [
    "k_x, k_y, b = res[0]"
   ]
  },
  {
   "cell_type": "markdown",
   "metadata": {},
   "source": [
    "Once we have flattened the print bed, this is the residual curve:"
   ]
  },
  {
   "cell_type": "code",
   "execution_count": 14,
   "metadata": {
    "collapsed": false
   },
   "outputs": [],
   "source": [
    "z2 = f(k_x, k_y, b)"
   ]
  },
  {
   "cell_type": "code",
   "execution_count": 15,
   "metadata": {
    "collapsed": false
   },
   "outputs": [
    {
     "data": {
      "image/png": "[encoded data removed]",
      "text/plain": [
       "<matplotlib.figure.Figure at 0x10dc74be0>"
      ]
     },
     "metadata": {},
     "output_type": "display_data"
    }
   ],
   "source": [
    "fig = plt.figure()\n",
    "ax = fig.gca(projection='3d')\n",
    "surf = ax.plot_trisurf(x, y, z2, cmap=cm.coolwarm, linewidth=0)"
   ]
  },
  {
   "cell_type": "markdown",
   "metadata": {},
   "source": [
    "Cool, eh? Verify that the center point (highest or lowest point of the dome or the cup) is really close to 0, 0 - if not, adjust the offset values.\n",
    "\n",
    "In my example, the curve has a distinct saddle-like shape. This is most likely due to some skew in printer frame geometry - I'm still finishing the printer construction and haven't had time to fix everything. I'll ignore that for the moment."
   ]
  },
  {
   "cell_type": "markdown",
   "metadata": {},
   "source": [
    "## Geometry calibration"
   ]
  },
  {
   "cell_type": "markdown",
   "metadata": {},
   "source": [
    "Next, let's flatten the residual curve. We'll assume that the diagonal rod length is known and accurate (add the carbon rod length to the steel ball diameter, in case of the magnetic arms). Hence, we'll only have to solve the delta radius error."
   ]
  },
  {
   "cell_type": "markdown",
   "metadata": {},
   "source": [
    "The delta printer kinematics is described here:\n",
    "http://reprap.org/wiki/File:Rostock_Delta_Kinematics_3.pdf"
   ]
  },
  {
   "cell_type": "code",
   "execution_count": 16,
   "metadata": {
    "collapsed": true
   },
   "outputs": [],
   "source": [
    "# Known variables\n",
    "# DELTA_DIAGONAL_ROD\n",
    "L = 210.0\n",
    "# DELTA_RADIUS\n",
    "DR = 105.3"
   ]
  },
  {
   "cell_type": "markdown",
   "metadata": {},
   "source": [
    "Inverse kinematics equations:"
   ]
  },
  {
   "cell_type": "code",
   "execution_count": 17,
   "metadata": {
    "collapsed": true
   },
   "outputs": [],
   "source": [
    "def inv_kin(L, DR, x, y):\n",
    "    Avx = 0\n",
    "    Avy = DR\n",
    "\n",
    "    Bvx = DR * np.cos(30.0 / (2*np.pi))\n",
    "    Bvy = -DR * np.sin(30.0 / (2*np.pi))\n",
    "\n",
    "    Cvx = -DR * np.cos(30.0 / (2*np.pi))\n",
    "    Cvy = -DR * np.sin(30.0 / (2*np.pi))\n",
    "\n",
    "    Acz = np.sqrt(L**2 - (x - Avx)**2 - (y - Avy)**2)\n",
    "    Bcz = np.sqrt(L**2 - (x - Bvx)**2 - (y - Bvy)**2)\n",
    "    Ccz = np.sqrt(L**2 - (x - Cvx)**2 - (y - Cvy)**2)\n",
    "    \n",
    "    return Acz, Bcz, Ccz"
   ]
  },
  {
   "cell_type": "code",
   "execution_count": 18,
   "metadata": {
    "collapsed": false
   },
   "outputs": [],
   "source": [
    "Acz, Bcz, Ccz = inv_kin(L, DR, x, y)"
   ]
  },
  {
   "cell_type": "markdown",
   "metadata": {},
   "source": [
    "For true L and DR, these return the zero height locations.\n",
    "For our imperfect dimensions, we need to calculate the actual x,y,z coordinates with forward kinematics. Since we're lazy, we solve the forward kinematic equations numerically from the inverse ones."
   ]
  },
  {
   "cell_type": "code",
   "execution_count": 19,
   "metadata": {
    "collapsed": false
   },
   "outputs": [],
   "source": [
    "def fwd_kin_scalar(L, DR, Az, Bz, Cz):\n",
    "    \n",
    "    # now, solve the inv_kin equation:\n",
    "    # Acz, Bcz, Ccz = inv_kin(L, DR, x, y, z)\n",
    "    # for x, y, z\n",
    "    \n",
    "    def fopt(x_):\n",
    "        x, y, z = x_\n",
    "        Aczg, Bczg, Cczg = inv_kin(L, DR, x, y)\n",
    "        #print(\"F: \", Aczg, Bczg, Cczg)\n",
    "        return [Aczg+z-Az, Bczg+z-Bz, Cczg+z-Cz]\n",
    "    res = leastsq(fopt, [0, 0, 1])\n",
    "    x, y, z = res[0]\n",
    "    \n",
    "    return x, y, z\n",
    "fwd_kin = np.vectorize(fwd_kin_scalar)"
   ]
  },
  {
   "cell_type": "markdown",
   "metadata": {},
   "source": [
    "Test fwd_kin correctness"
   ]
  },
  {
   "cell_type": "code",
   "execution_count": 20,
   "metadata": {
    "collapsed": false
   },
   "outputs": [],
   "source": [
    "def test_fwd_kin_reciprocity():\n",
    "    xs = np.linspace(-100, 70, 51)\n",
    "    ys = np.linspace(60, -50, 51)\n",
    "    zs = np.linspace(0, 50, 51)\n",
    "    for i, (x, y, z) in enumerate(zip(xs, ys, zs)):\n",
    "        Acz, Bcz, Ccz = inv_kin(L, DR, x, y)\n",
    "        xi, yi, zi = fwd_kin(L, DR, Acz+z, Bcz+z, Ccz+z)\n",
    "        assert np.abs(x-xi) < 1e-5\n",
    "        assert np.abs(y-yi) < 1e-5\n",
    "        assert np.abs(z-zi) < 1e-5\n",
    "test_fwd_kin_reciprocity()"
   ]
  },
  {
   "cell_type": "markdown",
   "metadata": {},
   "source": [
    "Now for the beef. Define the error incurred by incorrect delta radius value."
   ]
  },
  {
   "cell_type": "code",
   "execution_count": 21,
   "metadata": {
    "collapsed": false
   },
   "outputs": [],
   "source": [
    "def Z_err(e):\n",
    "    # idealized inverse kinematics (this is what the firmware calculates)\n",
    "    Acz, Bcz, Ccz = inv_kin(L, DR, x, y)\n",
    "    # and this is where the extruder ends up in real world\n",
    "    x_e, y_e, z_e = fwd_kin(L, DR+e, Acz, Bcz, Ccz)\n",
    "    \n",
    "    return z_e"
   ]
  },
  {
   "cell_type": "markdown",
   "metadata": {},
   "source": [
    "Define the optimization function."
   ]
  },
  {
   "cell_type": "code",
   "execution_count": 22,
   "metadata": {
    "collapsed": true
   },
   "outputs": [],
   "source": [
    "def fopt(x):\n",
    "    e, = x\n",
    "    zerr = Z_err(e)\n",
    "    # ignore any constant offset\n",
    "    zerr = zerr - np.mean(zerr)\n",
    "    return np.sum((z2-zerr)**2)"
   ]
  },
  {
   "cell_type": "markdown",
   "metadata": {},
   "source": [
    "Run the optimization. This might take a few moments."
   ]
  },
  {
   "cell_type": "code",
   "execution_count": 23,
   "metadata": {
    "collapsed": false,
    "scrolled": true
   },
   "outputs": [
    {
     "data": {
      "text/plain": [
       "  status: 1\n",
       "       x: array([ 2.22597422])\n",
       "     fun: 1.4616350668425031\n",
       "   maxcv: 0.0\n",
       "    nfev: 26\n",
       " success: True\n",
       " message: 'Optimization terminated successfully.'"
      ]
     },
     "execution_count": 23,
     "metadata": {},
     "output_type": "execute_result"
    }
   ],
   "source": [
    "res2 = minimize(fopt, \n",
    "                np.array([-2]), \n",
    "                method='COBYLA', \n",
    "                options={\"disp\": True})\n",
    "res2"
   ]
  },
  {
   "cell_type": "code",
   "execution_count": 24,
   "metadata": {
    "collapsed": false
   },
   "outputs": [
    {
     "data": {
      "text/plain": [
       "2.2259742187499998"
      ]
     },
     "execution_count": 24,
     "metadata": {},
     "output_type": "execute_result"
    }
   ],
   "source": [
    "e, = res2.x\n",
    "\n",
    "e"
   ]
  },
  {
   "cell_type": "code",
   "execution_count": 25,
   "metadata": {
    "collapsed": false
   },
   "outputs": [],
   "source": [
    "zerr = Z_err(e)\n",
    "zerr = zerr - np.mean(zerr)"
   ]
  },
  {
   "cell_type": "code",
   "execution_count": 26,
   "metadata": {
    "collapsed": false
   },
   "outputs": [
    {
     "data": {
      "image/png": "[encoded data removed]",
      "text/plain": [
       "<matplotlib.figure.Figure at 0x10ddeda20>"
      ]
     },
     "metadata": {},
     "output_type": "display_data"
    }
   ],
   "source": [
    "fig = plt.figure()\n",
    "ax = fig.gca(projection='3d')\n",
    "surf = ax.plot_trisurf(x, y, z2-zerr, cmap=cm.coolwarm, linewidth=0)"
   ]
  },
  {
   "cell_type": "markdown",
   "metadata": {},
   "source": [
    "Note the z axis values. The residual has flattened quite a bit. Take the e value and add that to DELTA_RADIUS and upload the new firmware. You still need to re-run calibration and most likely also readjust Z_PROBE_OFFSET_FROM_EXTRUDER to ensure you get a perfect first layer height.\n"
   ]
  }
 ],
 "metadata": {
  "kernelspec": {
   "display_name": "Python 3",
   "language": "python",
   "name": "python3"
  },
  "language_info": {
   "codemirror_mode": {
    "name": "ipython",
    "version": 3
   },
   "file_extension": ".py",
   "mimetype": "text/x-python",
   "name": "python",
   "nbconvert_exporter": "python",
   "pygments_lexer": "ipython3",
   "version": "3.4.2"
  }
 },
 "nbformat": 4,
 "nbformat_minor": 0
}
